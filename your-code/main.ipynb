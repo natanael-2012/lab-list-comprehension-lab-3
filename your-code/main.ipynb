{
  "cells": [
    {
      "cell_type": "markdown",
      "metadata": {
        "id": "TiaC9l3mA0f4"
      },
      "source": [
        "# List Comprehensions\n",
        "\n",
        "Complete the following set of exercises to solidify your knowledge of list comprehensions."
      ]
    },
    {
      "cell_type": "code",
      "execution_count": 71,
      "metadata": {
        "id": "yMCQ8kdqA0f9"
      },
      "outputs": [],
      "source": [
        "import os"
      ]
    },
    {
      "cell_type": "markdown",
      "metadata": {
        "id": "cK4ZhBMEA0gA"
      },
      "source": [
        "#### 1. Use a list comprehension to create and print a list of consecutive integers starting with 1 and ending with 50."
      ]
    },
    {
      "cell_type": "code",
      "execution_count": 72,
      "metadata": {
        "colab": {
          "base_uri": "https://localhost:8080/"
        },
        "id": "KODFW9igA0gB",
        "outputId": "35056b80-3235-40df-ac4a-21722f467ad2"
      },
      "outputs": [
        {
          "output_type": "stream",
          "name": "stdout",
          "text": [
            "[1, 2, 3, 4, 5, 6, 7, 8, 9, 10, 11, 12, 13, 14, 15, 16, 17, 18, 19, 20, 21, 22, 23, 24, 25, 26, 27, 28, 29, 30, 31, 32, 33, 34, 35, 36, 37, 38, 39, 40, 41, 42, 43, 44, 45, 46, 47, 48, 49, 50]\n"
          ]
        }
      ],
      "source": [
        "#your code here\n",
        "lst = [i for i in range (1,51)]\n",
        "print(lst)\n"
      ]
    },
    {
      "cell_type": "markdown",
      "metadata": {
        "id": "ndglJKSzA0gC"
      },
      "source": [
        "#### 2. Use a list comprehension to create and print a list of even numbers starting with 2 and ending with 200."
      ]
    },
    {
      "cell_type": "code",
      "execution_count": 73,
      "metadata": {
        "colab": {
          "base_uri": "https://localhost:8080/"
        },
        "id": "Bfrn-5HwA0gC",
        "outputId": "22abf0e9-fe0f-494a-fdd4-6319f4a99457"
      },
      "outputs": [
        {
          "output_type": "execute_result",
          "data": {
            "text/plain": [
              "[2,\n",
              " 4,\n",
              " 6,\n",
              " 8,\n",
              " 10,\n",
              " 12,\n",
              " 14,\n",
              " 16,\n",
              " 18,\n",
              " 20,\n",
              " 22,\n",
              " 24,\n",
              " 26,\n",
              " 28,\n",
              " 30,\n",
              " 32,\n",
              " 34,\n",
              " 36,\n",
              " 38,\n",
              " 40,\n",
              " 42,\n",
              " 44,\n",
              " 46,\n",
              " 48,\n",
              " 50,\n",
              " 52,\n",
              " 54,\n",
              " 56,\n",
              " 58,\n",
              " 60,\n",
              " 62,\n",
              " 64,\n",
              " 66,\n",
              " 68,\n",
              " 70,\n",
              " 72,\n",
              " 74,\n",
              " 76,\n",
              " 78,\n",
              " 80,\n",
              " 82,\n",
              " 84,\n",
              " 86,\n",
              " 88,\n",
              " 90,\n",
              " 92,\n",
              " 94,\n",
              " 96,\n",
              " 98,\n",
              " 100,\n",
              " 102,\n",
              " 104,\n",
              " 106,\n",
              " 108,\n",
              " 110,\n",
              " 112,\n",
              " 114,\n",
              " 116,\n",
              " 118,\n",
              " 120,\n",
              " 122,\n",
              " 124,\n",
              " 126,\n",
              " 128,\n",
              " 130,\n",
              " 132,\n",
              " 134,\n",
              " 136,\n",
              " 138,\n",
              " 140,\n",
              " 142,\n",
              " 144,\n",
              " 146,\n",
              " 148,\n",
              " 150,\n",
              " 152,\n",
              " 154,\n",
              " 156,\n",
              " 158,\n",
              " 160,\n",
              " 162,\n",
              " 164,\n",
              " 166,\n",
              " 168,\n",
              " 170,\n",
              " 172,\n",
              " 174,\n",
              " 176,\n",
              " 178,\n",
              " 180,\n",
              " 182,\n",
              " 184,\n",
              " 186,\n",
              " 188,\n",
              " 190,\n",
              " 192,\n",
              " 194,\n",
              " 196,\n",
              " 198,\n",
              " 200]"
            ]
          },
          "metadata": {},
          "execution_count": 73
        }
      ],
      "source": [
        "#your code here\n",
        "\n",
        "even = [i for i in range (2,201,2)]\n",
        "even"
      ]
    },
    {
      "cell_type": "markdown",
      "metadata": {
        "id": "Uf_L81asA0gD"
      },
      "source": [
        "#### 3. Use a list comprehension to create and print a list containing all elements of the 10 x 4 array below."
      ]
    },
    {
      "cell_type": "code",
      "execution_count": 74,
      "metadata": {
        "id": "jSYW55C6A0gD"
      },
      "outputs": [],
      "source": [
        "a = [[0.84062117, 0.48006452, 0.7876326 , 0.77109654],\n",
        "       [0.44409793, 0.09014516, 0.81835917, 0.87645456],\n",
        "       [0.7066597 , 0.09610873, 0.41247947, 0.57433389],\n",
        "       [0.29960807, 0.42315023, 0.34452557, 0.4751035 ],\n",
        "       [0.17003563, 0.46843998, 0.92796258, 0.69814654],\n",
        "       [0.41290051, 0.19561071, 0.16284783, 0.97016248],\n",
        "       [0.71725408, 0.87702738, 0.31244595, 0.76615487],\n",
        "       [0.20754036, 0.57871812, 0.07214068, 0.40356048],\n",
        "       [0.12149553, 0.53222417, 0.9976855 , 0.12536346],\n",
        "       [0.80930099, 0.50962849, 0.94555126, 0.33364763]];"
      ]
    },
    {
      "cell_type": "code",
      "execution_count": 75,
      "metadata": {
        "colab": {
          "base_uri": "https://localhost:8080/"
        },
        "id": "rAjcfDdEA0gE",
        "outputId": "41ce5e26-0140-4681-fa71-34ea01b10fdb"
      },
      "outputs": [
        {
          "output_type": "execute_result",
          "data": {
            "text/plain": [
              "[0.84062117,\n",
              " 0.48006452,\n",
              " 0.7876326,\n",
              " 0.77109654,\n",
              " 0.44409793,\n",
              " 0.09014516,\n",
              " 0.81835917,\n",
              " 0.87645456,\n",
              " 0.7066597,\n",
              " 0.09610873,\n",
              " 0.41247947,\n",
              " 0.57433389,\n",
              " 0.29960807,\n",
              " 0.42315023,\n",
              " 0.34452557,\n",
              " 0.4751035,\n",
              " 0.17003563,\n",
              " 0.46843998,\n",
              " 0.92796258,\n",
              " 0.69814654,\n",
              " 0.41290051,\n",
              " 0.19561071,\n",
              " 0.16284783,\n",
              " 0.97016248,\n",
              " 0.71725408,\n",
              " 0.87702738,\n",
              " 0.31244595,\n",
              " 0.76615487,\n",
              " 0.20754036,\n",
              " 0.57871812,\n",
              " 0.07214068,\n",
              " 0.40356048,\n",
              " 0.12149553,\n",
              " 0.53222417,\n",
              " 0.9976855,\n",
              " 0.12536346,\n",
              " 0.80930099,\n",
              " 0.50962849,\n",
              " 0.94555126,\n",
              " 0.33364763]"
            ]
          },
          "metadata": {},
          "execution_count": 75
        }
      ],
      "source": [
        "#your code here\n",
        "\n",
        "mtx_to_lst = [j for i in a for j in i]\n",
        "mtx_to_lst"
      ]
    },
    {
      "cell_type": "markdown",
      "metadata": {
        "id": "PWOFGUSXA0gE"
      },
      "source": [
        "#### 4. Add a condition to the list comprehension above so that only values greater than or equal to 0.5 are printed."
      ]
    },
    {
      "cell_type": "code",
      "execution_count": 76,
      "metadata": {
        "colab": {
          "base_uri": "https://localhost:8080/"
        },
        "id": "CRCIo65bA0gF",
        "outputId": "e1c07e73-f8be-40a5-d823-0ab3c8c5aa77"
      },
      "outputs": [
        {
          "output_type": "execute_result",
          "data": {
            "text/plain": [
              "[0.84062117,\n",
              " 0.7876326,\n",
              " 0.77109654,\n",
              " 0.81835917,\n",
              " 0.87645456,\n",
              " 0.7066597,\n",
              " 0.57433389,\n",
              " 0.92796258,\n",
              " 0.69814654,\n",
              " 0.97016248,\n",
              " 0.71725408,\n",
              " 0.87702738,\n",
              " 0.76615487,\n",
              " 0.57871812,\n",
              " 0.53222417,\n",
              " 0.9976855,\n",
              " 0.80930099,\n",
              " 0.50962849,\n",
              " 0.94555126]"
            ]
          },
          "metadata": {},
          "execution_count": 76
        }
      ],
      "source": [
        "#your code here\n",
        "mtx_to_lst = [i for i in mtx_to_lst if i >= 0.5 ]\n",
        "mtx_to_lst"
      ]
    },
    {
      "cell_type": "markdown",
      "metadata": {
        "id": "ETsEd1u9A0gF"
      },
      "source": [
        "#### 5. Use a list comprehension to create and print a list containing all elements of the 5 x 2 x 3 array below."
      ]
    },
    {
      "cell_type": "code",
      "execution_count": 77,
      "metadata": {
        "id": "qFRVJN2LA0gF"
      },
      "outputs": [],
      "source": [
        "b = [[[0.55867166, 0.06210792, 0.08147297],\n",
        "        [0.82579068, 0.91512478, 0.06833034]],\n",
        "\n",
        "       [[0.05440634, 0.65857693, 0.30296619],\n",
        "        [0.06769833, 0.96031863, 0.51293743]],\n",
        "\n",
        "       [[0.09143215, 0.71893382, 0.45850679],\n",
        "        [0.58256464, 0.59005654, 0.56266457]],\n",
        "\n",
        "       [[0.71600294, 0.87392666, 0.11434044],\n",
        "        [0.8694668 , 0.65669313, 0.10708681]],\n",
        "\n",
        "       [[0.07529684, 0.46470767, 0.47984544],\n",
        "        [0.65368638, 0.14901286, 0.23760688]]];"
      ]
    },
    {
      "cell_type": "code",
      "execution_count": 78,
      "metadata": {
        "colab": {
          "base_uri": "https://localhost:8080/"
        },
        "id": "4R2Ri0eAA0gG",
        "outputId": "3b447a09-ceeb-42f4-e1b5-8ab0c260e336"
      },
      "outputs": [
        {
          "output_type": "execute_result",
          "data": {
            "text/plain": [
              "[0.55867166,\n",
              " 0.06210792,\n",
              " 0.08147297,\n",
              " 0.82579068,\n",
              " 0.91512478,\n",
              " 0.06833034,\n",
              " 0.05440634,\n",
              " 0.65857693,\n",
              " 0.30296619,\n",
              " 0.06769833,\n",
              " 0.96031863,\n",
              " 0.51293743,\n",
              " 0.09143215,\n",
              " 0.71893382,\n",
              " 0.45850679,\n",
              " 0.58256464,\n",
              " 0.59005654,\n",
              " 0.56266457,\n",
              " 0.71600294,\n",
              " 0.87392666,\n",
              " 0.11434044,\n",
              " 0.8694668,\n",
              " 0.65669313,\n",
              " 0.10708681,\n",
              " 0.07529684,\n",
              " 0.46470767,\n",
              " 0.47984544,\n",
              " 0.65368638,\n",
              " 0.14901286,\n",
              " 0.23760688]"
            ]
          },
          "metadata": {},
          "execution_count": 78
        }
      ],
      "source": [
        "#your code here\n",
        "\n",
        "mtx_list_b = [k for i in b for j in i for k in j]\n",
        "mtx_list_b"
      ]
    },
    {
      "cell_type": "markdown",
      "metadata": {
        "id": "T0rJDYaBA0gG"
      },
      "source": [
        "#### 6. Add a condition to the list comprehension above so that the last value in each subarray is printed, but only if it is less than or equal to 0.5."
      ]
    },
    {
      "cell_type": "code",
      "execution_count": 79,
      "metadata": {
        "colab": {
          "base_uri": "https://localhost:8080/"
        },
        "id": "1jSRL6h5A0gH",
        "outputId": "4a9bfa6f-1a3c-448c-a568-8e8b1b2fdd54"
      },
      "outputs": [
        {
          "output_type": "execute_result",
          "data": {
            "text/plain": [
              "[0.08147297,\n",
              " 0.06833034,\n",
              " 0.30296619,\n",
              " 0.45850679,\n",
              " 0.11434044,\n",
              " 0.10708681,\n",
              " 0.47984544,\n",
              " 0.23760688]"
            ]
          },
          "metadata": {},
          "execution_count": 79
        }
      ],
      "source": [
        "#your code here\n",
        "new_mtx_lst_b = [j[-1] for i in b for j in i if j[-1]<=0.5]\n",
        "new_mtx_lst_b"
      ]
    },
    {
      "cell_type": "markdown",
      "metadata": {
        "id": "9Vo54DeKA0gH"
      },
      "source": [
        "### Bonus"
      ]
    },
    {
      "cell_type": "markdown",
      "metadata": {
        "id": "Nlexkx7ZA0gH"
      },
      "source": [
        "Try to solve these katas using list comprehensions."
      ]
    },
    {
      "cell_type": "markdown",
      "metadata": {
        "id": "ICll-bpRA0gH"
      },
      "source": [
        "**Easy**\n",
        "- [Insert values](https://www.codewars.com/kata/invert-values)\n",
        "- [Sum Square(n)](https://www.codewars.com/kata/square-n-sum)\n",
        "- [Digitize](https://www.codewars.com/kata/digitize)\n",
        "- [List filtering](https://www.codewars.com/kata/list-filtering)\n",
        "- [Arithmetic list](https://www.codewars.com/kata/541da001259d9ca85d000688)\n",
        "\n",
        "**Medium**\n",
        "- [Multiples of 3 or 5](https://www.codewars.com/kata/514b92a657cdc65150000006)\n",
        "- [Count of positives / sum of negatives](https://www.codewars.com/kata/count-of-positives-slash-sum-of-negatives)\n",
        "- [Categorize new member](https://www.codewars.com/kata/5502c9e7b3216ec63c0001aa)\n",
        "\n",
        "**Advanced**\n",
        "- [Queue time counter](https://www.codewars.com/kata/queue-time-counter)"
      ]
    },
    {
      "cell_type": "markdown",
      "source": [
        "[Insert values](https://www.codewars.com/kata/invert-values):\n",
        "\n",
        "Given a set of numbers, return the additive inverse of each. Each positive becomes negatives, and the negatives become positives."
      ],
      "metadata": {
        "id": "R5WsNkG0MZ3J"
      }
    },
    {
      "cell_type": "code",
      "source": [
        "test = [1,2,-3,-4,5]\n",
        "\n",
        "test = [-test[i] for i in range (len(test))]\n",
        "\n",
        "test"
      ],
      "metadata": {
        "colab": {
          "base_uri": "https://localhost:8080/"
        },
        "id": "UlCHLhYlMZTe",
        "outputId": "6d517336-b401-4618-d804-620cef6c3502"
      },
      "execution_count": 80,
      "outputs": [
        {
          "output_type": "execute_result",
          "data": {
            "text/plain": [
              "[-1, -2, 3, 4, -5]"
            ]
          },
          "metadata": {},
          "execution_count": 80
        }
      ]
    },
    {
      "cell_type": "markdown",
      "source": [
        "[Sum Square(n)](https://www.codewars.com/kata/square-n-sum):\n",
        "\n",
        "Complete the square sum function so that it squares each number passed into it and then sums the results together.\n",
        "\n",
        "For example, for `[1, 2, 2]` it should return `9` because `1^2+2^2+2^2=9`"
      ],
      "metadata": {
        "id": "_aYwFQsMOURi"
      }
    },
    {
      "cell_type": "code",
      "source": [
        "lst = [2,2,2]\n",
        "\n",
        "sqr_sum = sum(i**2 for i in lst)\n",
        "\n",
        "sqr_sum"
      ],
      "metadata": {
        "colab": {
          "base_uri": "https://localhost:8080/"
        },
        "id": "HNOSqGc4On1c",
        "outputId": "c23189c3-e8d7-4fcd-d858-cd3420be0177"
      },
      "execution_count": 81,
      "outputs": [
        {
          "output_type": "execute_result",
          "data": {
            "text/plain": [
              "12"
            ]
          },
          "metadata": {},
          "execution_count": 81
        }
      ]
    },
    {
      "cell_type": "markdown",
      "source": [
        "[Digitize](https://www.codewars.com/kata/digitize)\n",
        "\n",
        "Given a non-negative integer, return an array / a list of the individual digits in order.\n",
        "\n",
        "Examples:\n",
        "\n",
        "`123 => [1,2,3]`\n",
        "\n",
        "`1 => [1]`\n",
        "\n",
        "`8675309 => [8,6,7,5,3,0,9]`"
      ],
      "metadata": {
        "id": "cvUmr0RqP87C"
      }
    },
    {
      "cell_type": "code",
      "source": [
        "number = 3465634\n",
        "\n",
        "num_list = [int(num) for num in str(number)]\n",
        "num_list"
      ],
      "metadata": {
        "colab": {
          "base_uri": "https://localhost:8080/"
        },
        "id": "j8BxpqvsQNlC",
        "outputId": "1d42eae4-66f8-478a-fccf-859c41ff5430"
      },
      "execution_count": 82,
      "outputs": [
        {
          "output_type": "execute_result",
          "data": {
            "text/plain": [
              "[3, 4, 6, 5, 6, 3, 4]"
            ]
          },
          "metadata": {},
          "execution_count": 82
        }
      ]
    },
    {
      "cell_type": "markdown",
      "source": [
        "[List filtering](https://www.codewars.com/kata/list-filtering)\n",
        "\n",
        "In this kata you will create a function that takes a list of non-negative integers and strings and returns a new list with the strings filtered out.\n",
        "\n",
        "Example\n",
        "> ```python\n",
        "filter_list([1,2,'a','b']) == [1,2]\n",
        "filter_list([1,'a','b',0,15]) == [1,0,15]\n",
        "filter_list([1,2,'aasf','1','123',123]) == [1,2,123]\n",
        "```\n"
      ],
      "metadata": {
        "id": "1h49m_kURDl1"
      }
    },
    {
      "cell_type": "code",
      "source": [
        "filt = [1,2,3,'d','f',6]\n",
        "\n",
        "filtered = [i for i in filt if type(i) == int]\n",
        "filtered"
      ],
      "metadata": {
        "colab": {
          "base_uri": "https://localhost:8080/"
        },
        "id": "PWMxYruXRUHP",
        "outputId": "08b71455-9fe1-4786-c445-24ca203020ef"
      },
      "execution_count": 83,
      "outputs": [
        {
          "output_type": "execute_result",
          "data": {
            "text/plain": [
              "[1, 2, 3, 6]"
            ]
          },
          "metadata": {},
          "execution_count": 83
        }
      ]
    },
    {
      "cell_type": "markdown",
      "source": [
        "[Arithmetic list](https://www.codewars.com/kata/541da001259d9ca85d000688)\n",
        "\n",
        "In this kata, you will write an arithmetic list which is basically a list that contains consecutive terms in the sequence.\n",
        "You will be given three parameters :\n",
        "\n",
        "- `first` the first term in the sequence\n",
        "- `c` the constant that you are going to ADD ( since it is an arithmetic sequence...)\n",
        "- `l` the number of terms that should be returned"
      ],
      "metadata": {
        "id": "UfuSAYvnRng1"
      }
    },
    {
      "cell_type": "code",
      "source": [
        "first = 10\n",
        "c = 10\n",
        "l = 4\n",
        "\n",
        "sequence = [first+i*c for i in range(l)]\n",
        "sequence"
      ],
      "metadata": {
        "colab": {
          "base_uri": "https://localhost:8080/"
        },
        "id": "_Fno4c-KSBm3",
        "outputId": "f1fef45c-21e8-4e74-b4ea-d3ca323f94d8"
      },
      "execution_count": 84,
      "outputs": [
        {
          "output_type": "execute_result",
          "data": {
            "text/plain": [
              "[10, 20, 30, 40]"
            ]
          },
          "metadata": {},
          "execution_count": 84
        }
      ]
    },
    {
      "cell_type": "markdown",
      "source": [
        "[Multiples of 3 or 5](https://www.codewars.com/kata/514b92a657cdc65150000006)\n",
        "\n",
        "If we list all the natural numbers below 10 that are multiples of 3 or 5, we get 3, 5, 6 and 9. The sum of these multiples is 23.\n",
        "\n",
        "Finish the solution so that it returns the sum of all the multiples of 3 or 5 below the number passed in.\n",
        "\n",
        "Additionally, if the number is negative, return 0.\n",
        "\n",
        "Note: If the number is a multiple of both 3 and 5, only count it once."
      ],
      "metadata": {
        "id": "TGf77yoPSt8W"
      }
    },
    {
      "cell_type": "code",
      "source": [
        "num = 10\n",
        "\n",
        "sum_mult = sum([i for i in range(num) if (i%3 == 0 or i%5==0)]) if num>0 else 0\n",
        "sum_mult\n"
      ],
      "metadata": {
        "colab": {
          "base_uri": "https://localhost:8080/"
        },
        "id": "nLQXah80SuvS",
        "outputId": "e54cfb56-ba74-452b-e3fd-2c8f0e46af1a"
      },
      "execution_count": 85,
      "outputs": [
        {
          "output_type": "execute_result",
          "data": {
            "text/plain": [
              "23"
            ]
          },
          "metadata": {},
          "execution_count": 85
        }
      ]
    },
    {
      "cell_type": "markdown",
      "source": [
        "[Count of positives / sum of negatives](https://www.codewars.com/kata/count-of-positives-slash-sum-of-negatives)\n",
        "\n",
        "Given an array of integers.\n",
        "\n",
        "Return an array, where the first element is the count of positives numbers and the second element is sum of negative numbers. 0 is neither positive nor negative.\n",
        "\n",
        "If the input is an empty array or is null, return an empty array.\n",
        "\n",
        "Example\n",
        "For input [1, 2, 3, 4, 5, 6, 7, 8, 9, 10, -11, -12, -13, -14, -15], you should return [10, -65]."
      ],
      "metadata": {
        "id": "JBVVBSuYUW4p"
      }
    },
    {
      "cell_type": "code",
      "source": [
        "inp =  [1, 2, 3, 4, 5, 6, 7, 8, 9, 10, -11, -12, -13, -14, -15]\n",
        "\n",
        "count = [sum(1 for i in inp if i >0),sum(i for i in inp if i<0)] if len(inp)> 0 else []\n",
        "count"
      ],
      "metadata": {
        "colab": {
          "base_uri": "https://localhost:8080/"
        },
        "id": "_rIUPDswUXl0",
        "outputId": "c5489415-073d-4caa-b199-9b72a36b4ed5"
      },
      "execution_count": 86,
      "outputs": [
        {
          "output_type": "execute_result",
          "data": {
            "text/plain": [
              "[10, -65]"
            ]
          },
          "metadata": {},
          "execution_count": 86
        }
      ]
    },
    {
      "cell_type": "markdown",
      "source": [
        "[Categorize new member](https://www.codewars.com/kata/5502c9e7b3216ec63c0001aa)\n",
        "\n",
        "The Western Suburbs Croquet Club has two categories of membership, Senior and Open. They would like your help with an application form that will tell prospective members which category they will be placed.\n",
        "\n",
        "To be a senior, a member must be at least 55 years old and have a handicap greater than 7. In this croquet club, handicaps range from -2 to +26; the better the player the lower the handicap.\n",
        "\n",
        "#### Input\n",
        "Input will consist of a list of pairs. Each pair contains information for a single potential member. Information consists of an integer for the person's age and an integer for the person's handicap.\n",
        "\n",
        "#### Output\n",
        "Output will consist of a list of string values (in Haskell and C: Open or Senior) stating whether the respective member is to be placed in the senior or open category.\n",
        "\n",
        "Example\n",
        "```\n",
        "input =  [[18, 20], [45, 2], [61, 12], [37, 6], [21, 21], [78, 9]]\n",
        "output = [\"Open\", \"Open\", \"Senior\", \"Open\", \"Open\", \"Senior\"]\n",
        "```"
      ],
      "metadata": {
        "id": "CAXDCn7uV1ZC"
      }
    },
    {
      "cell_type": "code",
      "source": [
        "inp =  [[18, 20], [45, 2], [61, 12], [37, 6], [21, 21], [78, 9]]\n",
        "\n",
        "output = [\"Senior\" if (i[0]>=55 and i[1]>7) else \"Open\" for i in inp]\n",
        "output"
      ],
      "metadata": {
        "colab": {
          "base_uri": "https://localhost:8080/"
        },
        "id": "4rHKSk7OV4lc",
        "outputId": "8e922ffd-1c1b-4a53-99b5-177c3944d92e"
      },
      "execution_count": 87,
      "outputs": [
        {
          "output_type": "execute_result",
          "data": {
            "text/plain": [
              "['Open', 'Open', 'Senior', 'Open', 'Open', 'Senior']"
            ]
          },
          "metadata": {},
          "execution_count": 87
        }
      ]
    },
    {
      "cell_type": "markdown",
      "source": [
        "**Advanced**\n",
        "- [Queue time counter](https://www.codewars.com/kata/queue-time-counter)\n",
        "\n",
        "You managed to send your friend to queue for tickets in your stead, but there is a catch: he will get there only if you tell him how much that is going to take. And everybody can only take one ticket at a time, then they go back in the last position of the queue if they need more (or go home if they are fine).\n",
        "\n",
        "Each ticket takes one minutes to emit, the queue is well disciplined, Brit-style, and so it moves smoothly, with no waste of time.\n",
        "\n",
        "You will be given an array/list/vector with all the people queuing and the initial position of your buddy, so for example, knowing that your friend is in the third position (that we will consider equal to the index, 2 (3 in COBOL): he is the guy that wants 3 tickets!) and the initial queue is `[2, 5, 3, 4, 6]`.\n",
        "\n",
        "The first dude gets his ticket and the queue goes now like this `[5, 3, 4, 6, 1]`, then `[3, 4, 6, 1, 4]` and so on. In the end, our buddy will be queuing for 12 minutes, true story!\n",
        "\n",
        "Build a function to compute it, resting assured that only positive integers are going to be there and you will be always given a valid index; but we also want to go to pretty popular events, so be ready for big queues with people getting plenty of tickets."
      ],
      "metadata": {
        "id": "mun8gPaUStvH"
      }
    },
    {
      "cell_type": "code",
      "source": [
        "lst = [2, 5, 3, 4, 6]\n",
        "pos = 2 # friend at index 2\n",
        "wait_time = 0\n",
        "\n",
        "while lst[pos] > 0:\n",
        "  wait_time = wait_time+1 if lst[0]>0 else wait_time\n",
        "  elem = lst.pop(0)-1 if lst[0] !=0 else lst.pop(0)\n",
        "  lst.append(elem)\n",
        "  # print(lst)\n",
        "  pos = pos-1 if pos!= 0 else len(lst)-1\n",
        "\n",
        "\n",
        "print (wait_time)"
      ],
      "metadata": {
        "id": "gi1XTB8WaJG3",
        "outputId": "a3882914-b31a-4208-d6be-a71e627279db",
        "colab": {
          "base_uri": "https://localhost:8080/"
        }
      },
      "execution_count": 88,
      "outputs": [
        {
          "output_type": "stream",
          "name": "stdout",
          "text": [
            "12\n"
          ]
        }
      ]
    }
  ],
  "metadata": {
    "kernelspec": {
      "display_name": "Python 3 (ipykernel)",
      "language": "python",
      "name": "python3"
    },
    "language_info": {
      "codemirror_mode": {
        "name": "ipython",
        "version": 3
      },
      "file_extension": ".py",
      "mimetype": "text/x-python",
      "name": "python",
      "nbconvert_exporter": "python",
      "pygments_lexer": "ipython3",
      "version": "3.9.13"
    },
    "vscode": {
      "interpreter": {
        "hash": "aee8b7b246df8f9039afb4144a1f6fd8d2ca17a180786b69acc140d282b71a49"
      }
    },
    "colab": {
      "provenance": []
    }
  },
  "nbformat": 4,
  "nbformat_minor": 0
}